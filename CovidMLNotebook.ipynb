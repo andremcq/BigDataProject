{
  "nbformat": 4,
  "nbformat_minor": 2,
  "metadata": {
    "kernelspec": {
      "name": "synapse_pyspark",
      "display_name": "Synapse PySpark"
    },
    "language_info": {
      "name": "python"
    },
    "description": null,
    "save_output": true,
    "synapse_widget": {
      "version": "0.1",
      "state": {
        "e7786b44-3859-4a38-917a-d633350c3f1a": {
          "type": "Synapse.DataFrame",
          "sync_state": {
            "table": {
              "rows": [
                {
                  "0": "338995",
                  "1": "2020-01-21",
                  "2": "262",
                  "4": "0",
                  "12": "Worldwide",
                  "16": "2022-01-11 00:06:28.611"
                },
                {
                  "0": "338996",
                  "1": "2020-01-22",
                  "2": "313",
                  "3": "51",
                  "4": "0",
                  "5": "0",
                  "12": "Worldwide",
                  "16": "2022-01-11 00:06:28.611"
                },
                {
                  "0": "338997",
                  "1": "2020-01-23",
                  "2": "578",
                  "3": "265",
                  "4": "0",
                  "5": "0",
                  "12": "Worldwide",
                  "16": "2022-01-11 00:06:28.611"
                },
                {
                  "0": "338998",
                  "1": "2020-01-24",
                  "2": "841",
                  "3": "263",
                  "4": "0",
                  "5": "0",
                  "12": "Worldwide",
                  "16": "2022-01-11 00:06:28.611"
                },
                {
                  "0": "338999",
                  "1": "2020-01-25",
                  "2": "1320",
                  "3": "479",
                  "4": "0",
                  "5": "0",
                  "12": "Worldwide",
                  "16": "2022-01-11 00:06:28.611"
                },
                {
                  "0": "339000",
                  "1": "2020-01-26",
                  "2": "2014",
                  "3": "694",
                  "4": "0",
                  "5": "0",
                  "12": "Worldwide",
                  "16": "2022-01-11 00:06:28.611"
                },
                {
                  "0": "339001",
                  "1": "2020-01-27",
                  "2": "2798",
                  "3": "784",
                  "4": "0",
                  "5": "0",
                  "12": "Worldwide",
                  "16": "2022-01-11 00:06:28.611"
                },
                {
                  "0": "339002",
                  "1": "2020-01-28",
                  "2": "4593",
                  "3": "1795",
                  "4": "0",
                  "5": "0",
                  "12": "Worldwide",
                  "16": "2022-01-11 00:06:28.611"
                },
                {
                  "0": "339003",
                  "1": "2020-01-29",
                  "2": "6065",
                  "3": "1472",
                  "4": "0",
                  "5": "0",
                  "12": "Worldwide",
                  "16": "2022-01-11 00:06:28.611"
                },
                {
                  "0": "339004",
                  "1": "2020-01-30",
                  "2": "7818",
                  "3": "1753",
                  "4": "0",
                  "5": "0",
                  "12": "Worldwide",
                  "16": "2022-01-11 00:06:28.611"
                }
              ],
              "schema": [
                {
                  "key": "0",
                  "name": "id",
                  "type": "int"
                },
                {
                  "key": "1",
                  "name": "updated",
                  "type": "date"
                },
                {
                  "key": "2",
                  "name": "confirmed",
                  "type": "int"
                },
                {
                  "key": "3",
                  "name": "confirmed_change",
                  "type": "int"
                },
                {
                  "key": "4",
                  "name": "deaths",
                  "type": "int"
                },
                {
                  "key": "5",
                  "name": "deaths_change",
                  "type": "smallint"
                },
                {
                  "key": "6",
                  "name": "recovered",
                  "type": "int"
                },
                {
                  "key": "7",
                  "name": "recovered_change",
                  "type": "int"
                },
                {
                  "key": "8",
                  "name": "latitude",
                  "type": "double"
                },
                {
                  "key": "9",
                  "name": "longitude",
                  "type": "double"
                },
                {
                  "key": "10",
                  "name": "iso2",
                  "type": "string"
                },
                {
                  "key": "11",
                  "name": "iso3",
                  "type": "string"
                },
                {
                  "key": "12",
                  "name": "country_region",
                  "type": "string"
                },
                {
                  "key": "13",
                  "name": "admin_region_1",
                  "type": "string"
                },
                {
                  "key": "14",
                  "name": "iso_subdivision",
                  "type": "string"
                },
                {
                  "key": "15",
                  "name": "admin_region_2",
                  "type": "string"
                },
                {
                  "key": "16",
                  "name": "load_time",
                  "type": "timestamp"
                }
              ],
              "truncated": false
            },
            "isSummary": false,
            "language": "scala"
          },
          "persist_state": {
            "view": {
              "type": "details",
              "tableOptions": {},
              "chartOptions": {
                "chartType": "bar",
                "aggregationType": "sum",
                "categoryFieldKeys": [
                  "1"
                ],
                "seriesFieldKeys": [
                  "0"
                ],
                "isStacked": false
              }
            }
          }
        }
      }
    }
  },
  "cells": [
    {
      "cell_type": "code",
      "execution_count": 46,
      "outputs": [
        {
          "output_type": "display_data",
          "data": {
            "application/vnd.livy.statement-meta+json": {
              "spark_pool": "SparkPool24",
              "session_id": 3,
              "statement_id": 47,
              "state": "finished",
              "livy_statement_state": "available",
              "queued_time": "2022-05-05T09:35:11.3726672Z",
              "session_start_time": null,
              "execution_start_time": "2022-05-05T09:35:11.5555617Z",
              "execution_finish_time": "2022-05-05T09:35:15.4791877Z"
            },
            "text/plain": "StatementMeta(SparkPool24, 3, 47, Finished, Available)"
          },
          "metadata": {}
        },
        {
          "output_type": "display_data",
          "data": {
            "application/vnd.synapse.widget-view+json": {
              "widget_id": "e7786b44-3859-4a38-917a-d633350c3f1a",
              "widget_type": "Synapse.DataFrame"
            },
            "text/plain": "SynapseWidget(Synapse.DataFrame, e7786b44-3859-4a38-917a-d633350c3f1a)"
          },
          "metadata": {}
        }
      ],
      "metadata": {
        "microsoft": {
          "language": "python"
        },
        "collapsed": false
      },
      "source": [
        "%%pyspark\r\n",
        "blob_account_name = \"pandemicdatalake\"\r\n",
        "blob_container_name = \"public\"\r\n",
        "blob_relative_path = \"curated/covid-19/bing_covid-19_data/latest/bing_covid-19_data.parquet\"\r\n",
        "blob_sas_token = r\"\"\r\n",
        "# Allow SPARK to read from Blob remotely\r\n",
        "wasbs_path = 'wasbs://%s@%s.blob.core.windows.net/%s' % (blob_container_name, blob_account_name, blob_relative_path)\r\n",
        "\r\n",
        "spark.conf.set(\r\n",
        "    'fs.azure.sas.%s.%s.blob.core.windows.net' % (blob_container_name, blob_account_name),\r\n",
        "    blob_sas_token)\r\n",
        "df = spark.read.parquet(wasbs_path)\r\n",
        "display(df.limit(10))"
      ]
    },
    {
      "cell_type": "code",
      "execution_count": 47,
      "outputs": [
        {
          "output_type": "display_data",
          "data": {
            "application/vnd.livy.statement-meta+json": {
              "spark_pool": "SparkPool24",
              "session_id": 3,
              "statement_id": 48,
              "state": "finished",
              "livy_statement_state": "available",
              "queued_time": "2022-05-05T09:35:11.4923161Z",
              "session_start_time": null,
              "execution_start_time": "2022-05-05T09:35:15.5952018Z",
              "execution_finish_time": "2022-05-05T09:37:05.2643705Z"
            },
            "text/plain": "StatementMeta(SparkPool24, 3, 48, Finished, Available)"
          },
          "metadata": {}
        },
        {
          "output_type": "stream",
          "name": "stdout",
          "text": [
            "+-------+--------------------+------------------+------------------+------------------+------------------+-----------------+------------------+------------------+------------------+-------+-------+--------------+--------------+---------------+--------------+\n|summary|                  id|         confirmed|  confirmed_change|            deaths|     deaths_change|        recovered|  recovered_change|          latitude|         longitude|   iso2|   iso3|country_region|admin_region_1|iso_subdivision|admin_region_2|\n+-------+--------------------+------------------+------------------+------------------+------------------+-----------------+------------------+------------------+------------------+-------+-------+--------------+--------------+---------------+--------------+\n|  count|             3051712|           3051712|           3046194|           2966180|           2955138|          1007464|            998455|           3051023|           3051023|3047595|3047595|       3051712|       2904347|        2569109|       2438076|\n|   mean|1.0588681483876885E8| 73255.69510425623|277.04324150070545|1581.4439063037307|4.8985512690101105|76161.41157401158|308.59428817523076| 34.39210563418321|-47.99697718003048|   null|   null|          null|          null|           null|          null|\n| stddev| 5.094304226659023E7|2151405.3072070857| 8991.103216420053|44963.298972364784|146.33486043095056| 1060221.31030173|30131.448497328078|14.890364033348574|  71.2723126090507|   null|   null|          null|          null|           null|          null|\n|    min|                  19|                 0|          -1840310|                -1|            -31669|                0|         -24776512|         -80.20264|         -176.2045|     AD|    ABW|   Afghanistan|        Aargau|           AR-A|        Aachen|\n|    max|           174489321|         300290277|           4038554|           5472566|             28865|         95897262|          12820706|           78.6954|          177.9633|     ZW|    ZWE|      Zimbabwe|Świętokrzyskie|          US-WY|       Zwickau|\n+-------+--------------------+------------------+------------------+------------------+------------------+-----------------+------------------+------------------+------------------+-------+-------+--------------+--------------+---------------+--------------+"
          ]
        }
      ],
      "metadata": {
        "jupyter": {
          "source_hidden": false,
          "outputs_hidden": false
        },
        "nteract": {
          "transient": {
            "deleting": false
          }
        }
      },
      "source": [
        "#filtered_df = df[df.country_region == 'France']\r\n",
        "df.describe().show()"
      ]
    },
    {
      "cell_type": "code",
      "execution_count": 48,
      "outputs": [
        {
          "output_type": "display_data",
          "data": {
            "application/vnd.livy.statement-meta+json": {
              "spark_pool": "SparkPool24",
              "session_id": 3,
              "statement_id": 49,
              "state": "finished",
              "livy_statement_state": "available",
              "queued_time": "2022-05-05T09:35:11.6424064Z",
              "session_start_time": null,
              "execution_start_time": "2022-05-05T09:37:05.3604268Z",
              "execution_finish_time": "2022-05-05T09:37:09.291768Z"
            },
            "text/plain": "StatementMeta(SparkPool24, 3, 49, Finished, Available)"
          },
          "metadata": {}
        },
        {
          "output_type": "stream",
          "name": "stdout",
          "text": [
            "+---------+------+\n|confirmed|deaths|\n+---------+------+\n|      262|     0|\n|      313|     0|\n|      578|     0|\n|      841|     0|\n|     1320|     0|\n|     2014|     0|\n|     2798|     0|\n|     4593|     0|\n|     6065|     0|\n|     7818|     0|\n+---------+------+\nonly showing top 10 rows\n\n+---------+------+\n|confirmed|deaths|\n+---------+------+\n|    262.0|   0.0|\n|    313.0|   0.0|\n|    578.0|   0.0|\n|    841.0|   0.0|\n|   1320.0|   0.0|\n|   2014.0|   0.0|\n|   2798.0|   0.0|\n|   4593.0|   0.0|\n|   6065.0|   0.0|\n|   7818.0|   0.0|\n+---------+------+\nonly showing top 10 rows"
          ]
        }
      ],
      "metadata": {
        "jupyter": {
          "source_hidden": false,
          "outputs_hidden": false
        },
        "nteract": {
          "transient": {
            "deleting": false
          }
        }
      },
      "source": [
        "from datetime import datetime\r\n",
        "from pyspark.sql.functions import *\r\n",
        "\r\n",
        "# To make development easier, faster, and less expensive, downsample for now\r\n",
        "#sampled_df = df#.sample(True, 0.001, seed=1234)\r\n",
        "\r\n",
        "all_df = df.select('confirmed', 'deaths').filter(df.country_region.isNotNull())\r\n",
        "all_df.show(10)\r\n",
        "#all_df.withColumn(\"confirmed\",col(\"confirmed\").cast(\"numeric\"))\r\n",
        "\r\n",
        "all_df = all_df \\\r\n",
        "    .withColumn('confirmed', col('confirmed').cast('double')) \\\r\n",
        "    .withColumn('deaths', col('deaths').cast('double'))\r\n",
        "\r\n",
        "#all_df = all_df.to_numeric(all_df, errors='ignore')\r\n",
        "all_df.dropna(how='any')\r\n",
        "all_df.show(10)"
      ]
    },
    {
      "cell_type": "code",
      "execution_count": 49,
      "outputs": [
        {
          "output_type": "display_data",
          "data": {
            "application/vnd.livy.statement-meta+json": {
              "spark_pool": "SparkPool24",
              "session_id": 3,
              "statement_id": 50,
              "state": "finished",
              "livy_statement_state": "available",
              "queued_time": "2022-05-05T09:35:11.7923536Z",
              "session_start_time": null,
              "execution_start_time": "2022-05-05T09:37:09.3804347Z",
              "execution_finish_time": "2022-05-05T09:37:13.6798302Z"
            },
            "text/plain": "StatementMeta(SparkPool24, 3, 50, Finished, Available)"
          },
          "metadata": {}
        },
        {
          "output_type": "display_data",
          "data": {
            "text/plain": "2440220"
          },
          "metadata": {}
        }
      ],
      "metadata": {
        "jupyter": {
          "source_hidden": false,
          "outputs_hidden": false
        },
        "nteract": {
          "transient": {
            "deleting": false
          }
        }
      },
      "source": [
        "# Random split dataset using Spark; convert Spark to pandas\r\n",
        "training_data, validation_data = all_df.randomSplit([0.8,0.2], 223)\r\n",
        "training_data.count()"
      ]
    },
    {
      "cell_type": "code",
      "execution_count": 50,
      "outputs": [
        {
          "output_type": "display_data",
          "data": {
            "application/vnd.livy.statement-meta+json": {
              "spark_pool": "SparkPool24",
              "session_id": 3,
              "statement_id": 51,
              "state": "finished",
              "livy_statement_state": "available",
              "queued_time": "2022-05-05T09:35:11.9126081Z",
              "session_start_time": null,
              "execution_start_time": "2022-05-05T09:37:13.7782648Z",
              "execution_finish_time": "2022-05-05T09:37:14.8516446Z"
            },
            "text/plain": "StatementMeta(SparkPool24, 3, 51, Finished, Available)"
          },
          "metadata": {}
        }
      ],
      "metadata": {
        "jupyter": {
          "source_hidden": false,
          "outputs_hidden": false
        },
        "nteract": {
          "transient": {
            "deleting": false
          }
        }
      },
      "source": [
        "from azureml.core import Workspace\r\n",
        "\r\n",
        "# Enter your subscription id, resource group, and workspace name.\r\n",
        "subscription_id = \"f46d5b09-3ce0-45c9-bd29-d2f0b2691914\" #you should be owner or contributor\r\n",
        "resource_group = \"BigData\" #you should be owner or contributor\r\n",
        "workspace_name = \"BigDataMachineLearning\" #your workspace name\r\n",
        "\r\n",
        "ws = Workspace(workspace_name = workspace_name,\r\n",
        "               subscription_id = subscription_id,\r\n",
        "               resource_group = resource_group)"
      ]
    },
    {
      "cell_type": "code",
      "execution_count": 51,
      "outputs": [
        {
          "output_type": "display_data",
          "data": {
            "application/vnd.livy.statement-meta+json": {
              "spark_pool": "SparkPool24",
              "session_id": 3,
              "statement_id": 52,
              "state": "finished",
              "livy_statement_state": "available",
              "queued_time": "2022-05-05T09:35:12.0425116Z",
              "session_start_time": null,
              "execution_start_time": "2022-05-05T09:37:14.9548369Z",
              "execution_finish_time": "2022-05-05T09:37:35.7131544Z"
            },
            "text/plain": "StatementMeta(SparkPool24, 3, 52, Finished, Available)"
          },
          "metadata": {}
        },
        {
          "output_type": "stream",
          "name": "stdout",
          "text": [
            "Uploading an estimated of 1 files\nUploading training_pd.csv\nUploaded training_pd.csv, 1 files out of an estimated total of 1\nUploaded 1 files"
          ]
        }
      ],
      "metadata": {
        "jupyter": {
          "source_hidden": false,
          "outputs_hidden": false
        },
        "nteract": {
          "transient": {
            "deleting": false
          }
        }
      },
      "source": [
        "import pandas \r\n",
        "from azureml.core import Dataset\r\n",
        "\r\n",
        "# Get the Azure Machine Learning default datastore\r\n",
        "datastore = ws.get_default_datastore()\r\n",
        "training_pd = training_data.toPandas().to_csv('training_pd.csv', index=False)\r\n",
        "\r\n",
        "# Convert into an Azure Machine Learning tabular dataset\r\n",
        "datastore.upload_files(files = ['training_pd.csv'],\r\n",
        "                       target_path = 'train-dataset/tabular/',\r\n",
        "                       overwrite = True,\r\n",
        "                       show_progress = True)\r\n",
        "dataset_training = Dataset.Tabular.from_delimited_files(path = [(datastore, 'train-dataset/tabular/training_pd.csv')])"
      ]
    },
    {
      "cell_type": "code",
      "execution_count": 52,
      "outputs": [
        {
          "output_type": "display_data",
          "data": {
            "application/vnd.livy.statement-meta+json": {
              "spark_pool": "SparkPool24",
              "session_id": 3,
              "statement_id": 53,
              "state": "finished",
              "livy_statement_state": "available",
              "queued_time": "2022-05-05T09:35:12.1335005Z",
              "session_start_time": null,
              "execution_start_time": "2022-05-05T09:37:35.8114719Z",
              "execution_finish_time": "2022-05-05T09:37:35.9602653Z"
            },
            "text/plain": "StatementMeta(SparkPool24, 3, 53, Finished, Available)"
          },
          "metadata": {}
        },
        {
          "output_type": "error",
          "ename": "AttributeError",
          "evalue": "'TabularDataset' object has no attribute 'printSchema'",
          "traceback": [
            "AttributeError: 'TabularDataset' object has no attribute 'printSchema'",
            "Traceback (most recent call last):\n",
            "AttributeError: 'TabularDataset' object has no attribute 'printSchema'\n"
          ]
        }
      ],
      "metadata": {
        "jupyter": {
          "source_hidden": false,
          "outputs_hidden": false
        },
        "nteract": {
          "transient": {
            "deleting": false
          }
        }
      },
      "source": [
        "import logging\r\n",
        "\r\n",
        "automl_settings = {\r\n",
        "    \"iteration_timeout_minutes\": 10,\r\n",
        "    \"experiment_timeout_minutes\": 30,\r\n",
        "    \"enable_early_stopping\": True,\r\n",
        "    \"primary_metric\": 'r2_score',\r\n",
        "    \"featurization\": 'auto',\r\n",
        "    \"verbosity\": logging.INFO,\r\n",
        "    \"n_cross_validations\": 2}\r\n",
        "\r\n",
        "dataset_training.printSchema()"
      ]
    },
    {
      "cell_type": "code",
      "execution_count": null,
      "outputs": [
        {
          "output_type": "display_data",
          "data": {
            "application/vnd.livy.statement-meta+json": {
              "spark_pool": null,
              "session_id": null,
              "statement_id": null,
              "state": "cancelled",
              "livy_statement_state": null,
              "queued_time": "2022-05-05T09:35:12.2227174Z",
              "session_start_time": null,
              "execution_start_time": null,
              "execution_finish_time": "2022-05-05T09:37:35.9701094Z"
            },
            "text/plain": "StatementMeta(, , , Cancelled, )"
          },
          "metadata": {}
        }
      ],
      "metadata": {
        "jupyter": {
          "source_hidden": false,
          "outputs_hidden": false
        },
        "nteract": {
          "transient": {
            "deleting": false
          }
        }
      },
      "source": [
        "from azureml.train.automl import AutoMLConfig\r\n",
        "\r\n",
        "automl_config = AutoMLConfig(task='regression',\r\n",
        "                             debug_log='automated_ml_errors.log',\r\n",
        "                             training_data = dataset_training,\r\n",
        "                             spark_context = sc,\r\n",
        "                             model_explainability = False, \r\n",
        "                             label_column_name =\"deaths\",**automl_settings)"
      ]
    },
    {
      "cell_type": "code",
      "execution_count": null,
      "outputs": [
        {
          "output_type": "display_data",
          "data": {
            "application/vnd.livy.statement-meta+json": {
              "spark_pool": null,
              "session_id": null,
              "statement_id": null,
              "state": "cancelled",
              "livy_statement_state": null,
              "queued_time": "2022-05-05T09:35:12.3126596Z",
              "session_start_time": null,
              "execution_start_time": null,
              "execution_finish_time": "2022-05-05T09:37:35.9706423Z"
            },
            "text/plain": "StatementMeta(, , , Cancelled, )"
          },
          "metadata": {}
        }
      ],
      "metadata": {
        "jupyter": {
          "source_hidden": false,
          "outputs_hidden": false
        },
        "nteract": {
          "transient": {
            "deleting": false
          }
        }
      },
      "source": [
        "from azureml.core.experiment import Experiment\r\n",
        "\r\n",
        "# Start an experiment in Azure Machine Learning\r\n",
        "experiment = Experiment(ws, \"aml-synapse-regression\")\r\n",
        "tags = {\"Synapse\": \"regression\"}\r\n",
        "local_run = experiment.submit(automl_config, show_output=True, tags = tags)\r\n",
        "\r\n",
        "# Use the get_details function to retrieve the detailed output for the run.\r\n",
        "run_details = local_run.get_details()"
      ]
    },
    {
      "cell_type": "code",
      "execution_count": null,
      "outputs": [
        {
          "output_type": "display_data",
          "data": {
            "application/vnd.livy.statement-meta+json": {
              "spark_pool": null,
              "session_id": null,
              "statement_id": null,
              "state": "cancelled",
              "livy_statement_state": null,
              "queued_time": "2022-05-05T09:35:12.4024306Z",
              "session_start_time": null,
              "execution_start_time": null,
              "execution_finish_time": "2022-05-05T09:37:35.9713606Z"
            },
            "text/plain": "StatementMeta(, , , Cancelled, )"
          },
          "metadata": {}
        }
      ],
      "metadata": {
        "jupyter": {
          "source_hidden": false,
          "outputs_hidden": false
        },
        "nteract": {
          "transient": {
            "deleting": false
          }
        }
      },
      "source": [
        "# Get best model\r\n",
        "best_run, fitted_model = local_run.get_output()"
      ]
    },
    {
      "cell_type": "code",
      "execution_count": null,
      "outputs": [
        {
          "output_type": "display_data",
          "data": {
            "application/vnd.livy.statement-meta+json": {
              "spark_pool": null,
              "session_id": null,
              "statement_id": null,
              "state": "cancelled",
              "livy_statement_state": null,
              "queued_time": "2022-05-05T09:35:12.4924151Z",
              "session_start_time": null,
              "execution_start_time": null,
              "execution_finish_time": "2022-05-05T09:37:35.9721486Z"
            },
            "text/plain": "StatementMeta(, , , Cancelled, )"
          },
          "metadata": {}
        }
      ],
      "metadata": {
        "jupyter": {
          "source_hidden": false,
          "outputs_hidden": false
        },
        "nteract": {
          "transient": {
            "deleting": false
          }
        }
      },
      "source": [
        "# Test best model accuracy\r\n",
        "validation_data_pd = validation_data.toPandas()\r\n",
        "y_test = validation_data_pd.pop(\"deaths\").to_frame()\r\n",
        "y_predict = fitted_model.predict(validation_data_pd)"
      ]
    },
    {
      "cell_type": "code",
      "execution_count": null,
      "outputs": [
        {
          "output_type": "display_data",
          "data": {
            "application/vnd.livy.statement-meta+json": {
              "spark_pool": null,
              "session_id": null,
              "statement_id": null,
              "state": "cancelled",
              "livy_statement_state": null,
              "queued_time": "2022-05-05T09:35:12.5925401Z",
              "session_start_time": null,
              "execution_start_time": null,
              "execution_finish_time": "2022-05-05T09:37:35.9727764Z"
            },
            "text/plain": "StatementMeta(, , , Cancelled, )"
          },
          "metadata": {}
        }
      ],
      "metadata": {
        "jupyter": {
          "source_hidden": false,
          "outputs_hidden": false
        },
        "nteract": {
          "transient": {
            "deleting": false
          }
        }
      },
      "source": [
        "from sklearn.metrics import mean_squared_error\r\n",
        "from math import sqrt\r\n",
        "\r\n",
        "# Calculate root-mean-square error\r\n",
        "y_actual = y_test.values.flatten().tolist()\r\n",
        "rmse = sqrt(mean_squared_error(y_actual, y_predict))\r\n",
        "\r\n",
        "print(\"Root Mean Square Error:\")\r\n",
        "print(rmse)"
      ]
    },
    {
      "cell_type": "code",
      "execution_count": null,
      "outputs": [
        {
          "output_type": "display_data",
          "data": {
            "application/vnd.livy.statement-meta+json": {
              "spark_pool": null,
              "session_id": null,
              "statement_id": null,
              "state": "cancelled",
              "livy_statement_state": null,
              "queued_time": "2022-05-05T09:35:12.812931Z",
              "session_start_time": null,
              "execution_start_time": null,
              "execution_finish_time": "2022-05-05T09:37:35.9735461Z"
            },
            "text/plain": "StatementMeta(, , , Cancelled, )"
          },
          "metadata": {}
        }
      ],
      "metadata": {
        "jupyter": {
          "source_hidden": false,
          "outputs_hidden": false
        },
        "nteract": {
          "transient": {
            "deleting": false
          }
        }
      },
      "source": [
        "# Calculate mean-absolute-percent error and model accuracy \r\n",
        "sum_actuals = sum_errors = 0\r\n",
        "\r\n",
        "for actual_val, predict_val in zip(y_actual, y_predict):\r\n",
        "    abs_error = actual_val - predict_val\r\n",
        "    if abs_error < 0:\r\n",
        "        abs_error = abs_error * -1\r\n",
        "\r\n",
        "    sum_errors = sum_errors + abs_error\r\n",
        "    sum_actuals = sum_actuals + actual_val\r\n",
        "\r\n",
        "mean_abs_percent_error = sum_errors / sum_actuals\r\n",
        "\r\n",
        "print(\"Model MAPE:\")\r\n",
        "print(mean_abs_percent_error)\r\n",
        "print()\r\n",
        "print(\"Model Accuracy:\")\r\n",
        "print(1 - mean_abs_percent_error)"
      ]
    },
    {
      "cell_type": "code",
      "execution_count": null,
      "outputs": [
        {
          "output_type": "display_data",
          "data": {
            "application/vnd.livy.statement-meta+json": {
              "spark_pool": null,
              "session_id": null,
              "statement_id": null,
              "state": "cancelled",
              "livy_statement_state": null,
              "queued_time": "2022-05-05T09:35:12.9726527Z",
              "session_start_time": null,
              "execution_start_time": null,
              "execution_finish_time": "2022-05-05T09:37:35.9741945Z"
            },
            "text/plain": "StatementMeta(, , , Cancelled, )"
          },
          "metadata": {}
        }
      ],
      "metadata": {
        "jupyter": {
          "source_hidden": false,
          "outputs_hidden": false
        },
        "nteract": {
          "transient": {
            "deleting": false
          }
        }
      },
      "source": [
        "import matplotlib.pyplot as plt\r\n",
        "import numpy as np\r\n",
        "from sklearn.metrics import mean_squared_error, r2_score\r\n",
        "\r\n",
        "# Calculate the R2 score by using the predicted and actual fare prices\r\n",
        "y_test_actual = y_test[\"deaths\"]\r\n",
        "r2 = r2_score(y_test_actual, y_predict)\r\n",
        "\r\n",
        "# Plot the actual versus predicted fare amount values\r\n",
        "plt.style.use('ggplot')\r\n",
        "plt.figure(figsize=(10, 7))\r\n",
        "plt.scatter(y_test_actual,y_predict)\r\n",
        "plt.plot([np.min(y_test_actual), np.max(y_test_actual)], [np.min(y_test_actual), np.max(y_test_actual)], color='lightblue')\r\n",
        "plt.xlabel(\"confirmed\")\r\n",
        "plt.ylabel(\"deaths\")\r\n",
        "plt.title(\"Actual vs Predicted R^2={}\".format(r2))\r\n",
        "plt.show()"
      ]
    },
    {
      "cell_type": "code",
      "execution_count": null,
      "outputs": [
        {
          "output_type": "display_data",
          "data": {
            "application/vnd.livy.statement-meta+json": {
              "spark_pool": null,
              "session_id": null,
              "statement_id": null,
              "state": "cancelled",
              "livy_statement_state": null,
              "queued_time": "2022-05-05T09:35:13.0924963Z",
              "session_start_time": null,
              "execution_start_time": null,
              "execution_finish_time": "2022-05-05T09:37:35.9748746Z"
            },
            "text/plain": "StatementMeta(, , , Cancelled, )"
          },
          "metadata": {}
        }
      ],
      "metadata": {
        "jupyter": {
          "source_hidden": false,
          "outputs_hidden": false
        },
        "nteract": {
          "transient": {
            "deleting": false
          }
        }
      },
      "source": [
        "description = 'Covid 19 ML model'\r\n",
        "model_path='outputs/model.pkl'\r\n",
        "model = best_run.register_model(model_name = 'Covid19', model_path = model_path, description = description)\r\n",
        "print(model.name, model.version)"
      ]
    }
  ]
}